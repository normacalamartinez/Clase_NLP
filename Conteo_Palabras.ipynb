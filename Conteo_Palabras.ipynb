{
 "cells": [
  {
   "cell_type": "code",
   "execution_count": 176,
   "metadata": {},
   "outputs": [],
   "source": [
    "# import Pandas as pd \n",
    "import pandas as pd \n",
    "from collections import Counter"
   ]
  },
  {
   "cell_type": "code",
   "execution_count": 177,
   "metadata": {},
   "outputs": [
    {
     "data": {
      "text/html": [
       "<div>\n",
       "<style scoped>\n",
       "    .dataframe tbody tr th:only-of-type {\n",
       "        vertical-align: middle;\n",
       "    }\n",
       "\n",
       "    .dataframe tbody tr th {\n",
       "        vertical-align: top;\n",
       "    }\n",
       "\n",
       "    .dataframe thead th {\n",
       "        text-align: right;\n",
       "    }\n",
       "</style>\n",
       "<table border=\"1\" class=\"dataframe\">\n",
       "  <thead>\n",
       "    <tr style=\"text-align: right;\">\n",
       "      <th></th>\n",
       "      <th>#</th>\n",
       "      <th>Nombre</th>\n",
       "      <th>Observacion</th>\n",
       "      <th>Sistema Operativo</th>\n",
       "    </tr>\n",
       "  </thead>\n",
       "  <tbody>\n",
       "    <tr>\n",
       "      <th>0</th>\n",
       "      <td>1</td>\n",
       "      <td>Viviana Márquez</td>\n",
       "      <td>Me gustan mucho las matemáticas, la programaci...</td>\n",
       "      <td>macOSx</td>\n",
       "    </tr>\n",
       "    <tr>\n",
       "      <th>1</th>\n",
       "      <td>2</td>\n",
       "      <td>Jorge Gomez</td>\n",
       "      <td>Desarrollo profesional y proyecto personal.</td>\n",
       "      <td>Windows x64</td>\n",
       "    </tr>\n",
       "    <tr>\n",
       "      <th>2</th>\n",
       "      <td>3</td>\n",
       "      <td>Ilvar Dario Sanabria</td>\n",
       "      <td>Muchas de las decisiones se basan en datos y c...</td>\n",
       "      <td>Windows x64</td>\n",
       "    </tr>\n",
       "    <tr>\n",
       "      <th>3</th>\n",
       "      <td>4</td>\n",
       "      <td>Camilo Rojas</td>\n",
       "      <td>Trabajo con temas relacionados a gestión de in...</td>\n",
       "      <td>Windows x64</td>\n",
       "    </tr>\n",
       "    <tr>\n",
       "      <th>4</th>\n",
       "      <td>5</td>\n",
       "      <td>Xiomy Díaz</td>\n",
       "      <td>En mi experiencia en investigación de mercados...</td>\n",
       "      <td>Windows x64</td>\n",
       "    </tr>\n",
       "  </tbody>\n",
       "</table>\n",
       "</div>"
      ],
      "text/plain": [
       "   #                 Nombre  \\\n",
       "0   1       Viviana Márquez   \n",
       "1   2           Jorge Gomez   \n",
       "2   3  Ilvar Dario Sanabria   \n",
       "3   4          Camilo Rojas   \n",
       "4   5            Xiomy Díaz   \n",
       "\n",
       "                                         Observacion Sistema Operativo  \n",
       "0  Me gustan mucho las matemáticas, la programaci...            macOSx  \n",
       "1        Desarrollo profesional y proyecto personal.       Windows x64  \n",
       "2  Muchas de las decisiones se basan en datos y c...       Windows x64  \n",
       "3  Trabajo con temas relacionados a gestión de in...       Windows x64  \n",
       "4  En mi experiencia en investigación de mercados...       Windows x64  "
      ]
     },
     "execution_count": 177,
     "metadata": {},
     "output_type": "execute_result"
    }
   ],
   "source": [
    "# Cargar datos en dataframe \n",
    "df_data = pd.read_csv('Taller_1_Datos.csv',sep=';' , encoding= 'unicode_escape')  \n",
    "\n",
    "#Renombrar columna\n",
    "df_data = df_data.rename(columns={'¿Por qué estás estudiando análitica estratégica de datos?':'Observacion'})\n",
    "df_data.head()\n",
    "\n"
   ]
  },
  {
   "cell_type": "code",
   "execution_count": 193,
   "metadata": {},
   "outputs": [
    {
     "name": "stdout",
     "output_type": "stream",
     "text": [
      " 24 =['Me', 'gustan', 'mucho', 'las', 'matemáticas,', 'la', 'programación', 'y', 'la', 'comunicación.', 'Pienso', 'que', 'la', 'ciencia', 'de', 'datos', 'es', 'una', 'buena', 'mezcla', 'entre', 'esas', 'tres', 'áreas.']\n",
      "\n",
      " 5 =['Desarrollo', 'profesional', 'y', 'proyecto', 'personal.']\n",
      "\n",
      " 22 =['Muchas', 'de', 'las', 'decisiones', 'se', 'basan', 'en', 'datos', 'y', 'creo', 'que', 'nos', 'aportan', 'mucho', 'tanto', 'en', 'lo', 'personal', 'como', 'en', 'lo', 'profesional']\n",
      "\n",
      " 27 =['Trabajo', 'con', 'temas', 'relacionados', 'a', 'gestión', 'de', 'información', 'y', 'estoy', 'interesado', 'en', 'aprender', 'a', 'utilizar', 'herramientas', 'que', 'faciliten', 'la', 'toma', 'de', 'decisiones', 'en', 'mi', 'lugar', 'de', 'trabajo.']\n",
      "\n",
      " 64 =['En', 'mi', 'experiencia', 'en', 'investigación', 'de', 'mercados', 'y', 'mercadeo', 'empecé', 'a', 'descubrir', 'el', 'mundo', 'de', 'la', 'analítica', 'y', 'me', 'apasiona', 'saber', 'que', 'podemos', 'usar', 'los', 'avances', 'tecnológicos', 'y', 'la', 'gran', 'cantidad', 'de', 'datos', 'que', 'hay,', 'para', 'entender', 'mejor', 'a', 'los', 'clientes', 'y', 'desarrollar', 'proyectos', 'que', 'ayuden', 'a', 'facilitar', 'los', 'procesos', 'en', 'las', 'organizaciones,', 'además', 'es', 'útil', 'en', 'mi', 'trabajo', 'como', 'analista', 'de', 'investigación', 'digital']\n",
      "\n",
      " 12 =['Me', 'gustan', 'mucho', 'los', 'datos', 'y', 'quiero', 'aprenden', 'como', 'aprovecharlos', 'al', 'maximo']\n",
      "\n",
      " 18 =['Me', 'encuentro', 'interesado', 'en', 'aprender', 'diferentes', 'métodos,', 'metodologías,', 'lenguajes', 'y', 'demás', 'para', 'convertirme', 'en', 'un', 'Científico', 'de', 'Datos']\n",
      "\n",
      " 34 =['En', 'mi', 'carrera', 'profesional', 'es', 'muy', 'útil', 'y', 'porque', 'el', 'manejo', 'de', 'la', 'información', 'día', 'a', 'día', 'genera', 'mucho', 'interes', 'y', 'mucho', 'valor', 'en', 'todo.', 'Quiero', 'aprender', 'mucho', 'de', 'herramientas', 'y', 'temas', 'al', 'respecto.']\n",
      "\n",
      " 18 =['Quiero', 'crear', 'productos', 'digitales', 'de', 'alto', 'impacto,', 'que', 'solucionen', 'problemas', 'y', 'sean', 'rentables.', 'Me', 'gusta', 'programar', 'en', 'python']\n",
      "\n",
      " 27 =['Porder', 'aplicar', 'mis', 'conocimientos', 'a', 'mi', 'labor', 'profesional', 'en', 'analitica', 'web', ',', 'creando', 'modelos', 'de', 'recomendación', 'y', 'personalizacion', 'para', 'las', 'paginas', 'web', '(contenidos', '-', 'ecommerce', '-', 'apps)']\n",
      "\n",
      " 63 =['Trabajo', 'con', 'altos', 'volúmenes', 'de', 'información', 'estructurada', 'y', 'no', 'estructurada', 'con', 'lo', 'que', 'mi', 'interés', 'es', 'generar', 'valor', 'a', 'la', 'compañía', 'y', 'a', 'los', 'sectores', 'de', 'interes', 'usando', 'herramientas', 'de', 'analitica', 'para', 'procesar', 'información', 'de', 'clientes,', 'ventas,', 'procesos', 'de', 'reclamación,', 'quejas,', 'contactos', 'con', 'bots', 'entre', 'otros.', 'Ademas', 'veo', 'que', 'es', 'un', 'complemento', 'interesante', 'con', 'otras', 'áreas', 'de', 'trabajo', 'entre', 'las', 'técnicas', 'y', 'humanas.']\n",
      "\n",
      " 11 =['Implementar', 'métodos', 'de', 'estudio', 'de', 'machine', 'learning', 'a', 'las', 'ciencias', 'sociales']\n",
      "\n",
      " 25 =['Estamos', 'en', 'contacto', 'permanente', 'con', 'los', 'datos', 'y', 'me', 'gusta', 'saber', 'cómo', 'hay', 'una', 'interacción', 'entre', 'ellos', 'y', 'cómo', 'pueden', 'tomarse', 'decisiones', 'basados', 'en', 'estos.']\n",
      "\n",
      " 10 =['Aprender', 'y', 'sacar', 'el', 'mejor', 'provecho', 'a', 'los', 'conocimientos', 'adquiridos']\n",
      "\n",
      " 18 =['Quiero', 'aprender', 'a', 'sacarle', 'provecho', 'a', 'los', 'datos', 'y', 'darles', 'un', 'valor', 'en', 'mi', 'vida', 'profesional', 'y', 'personal']\n",
      "\n",
      " 14 =['Aprender', 'nuevas', 'herramientas', 'y', 'saber', 'como', 'analizar', 'los', 'datos', 'para', 'la', 'toma', 'de', 'decisiones']\n",
      "\n",
      " 22 =['Generar', 'nuevos', 'conocimientos', 'en', 'herramientas', 'de', 'analitica', 'que', 'me', 'aporten', 'para', 'el', 'analisis', 'de', 'la', 'información', 'y', 'en', 'toma', 'de', 'decisiones', '.']\n",
      "\n",
      " 25 =['Por', 'la', 'gran', 'cantidad', 'de', 'datos', 'que', 'se', 'maneja', 'en', 'mi', 'ámbito', 'laboral,', 'y', 'por', 'el', 'reto', 'personal', 'que', 'para', 'mi', 'refleja', 'manejar', 'esos', 'datos']\n",
      "\n",
      " 22 =['El', 'mundo', 'actual', 'cuenta', 'con', 'grandes', 'volumenes', 'de', 'datos,', 'pero', 'ahora', 'es', 'tiempo', 'de', 'analizar', 'y', 'comprender', 'las', 'necesidades', 'de', 'cada', 'sector.']\n",
      "\n",
      " 56 =['Mi', 'interés', 'en', 'la', 'especialización', 'es', 'tener', 'un', 'conocimiento', 'más', 'amplio,', 'enfocado', 'y', 'profesional', 'para', 'la', 'manipulación', 'de', 'datos,', 'abarcando', 'desde', 'la', 'recolección,', 'procesamiento,', 'análisis', 'e', 'interpretación', 'para', 'el', 'usuario', 'final', 'cuyo', 'un', 'objetivo', 'fundamental', 'es', 'generar', 'valor', 'agregado', 'en', 'mis', 'reportes', 'para', 'una', 'óptima', 'toma', 'de', 'decisiones', 'que', 'beneficien', 'cualquier', 'plan', 'estratégico', 'en', 'las', 'empresas']\n",
      "\n",
      " 13 =['Por', 'complemento', 'profesional,', 'porque', 'la', 'analitica', 'es', 'bastante', 'valorada', 'en', 'el', 'mercado', 'laboral']\n",
      "\n",
      " 13 =['Considero', 'realmente', 'interesante', 'aprender', 'nuevas', 'herramientas', 'que', 'me', 'permitan', 'mejorar', 'a', 'nivel', 'profesional']\n",
      "\n",
      " 27 =['Me', 'gusta', 'mucho', 'el', 'analisis', 'de', 'datos,', 'en', 'especial', 'las', 'predicciones', 'y', 'analisis', 'de', 'texto', 'que', 'permitan', 'una', 'correcta', 'visualizacion', 'y', 'que', 'le', 'dé', 'valor', 'al', 'cliente']\n",
      "\n",
      " 11 =['Por', 'las', 'aplicaciones', 'que', 'hoy', 'en', 'día', 'tiene', 'en', 'la', 'industria.']\n",
      "\n",
      " 7 =['para', 'tener', 'un', 'crecimiento', 'personal', 'y', 'laboral']\n",
      "\n",
      " 21 =['Quiero', 'dedicarme', 'a', 'esto', 'el', 'resto', 'de', 'mi', 'vida', 'y', 'todos', 'estos', 'temas', 'me', 'sirven', 'para', 'poder', 'ir', 'alcanzando', 'mi', 'sueno']\n",
      "\n",
      " 23 =['Creo', 'que', 'los', 'datos', 'son', 'y', 'seran', 'cada', 'vez', 'mas', 'importantes,', 'asi', 'que', 'aprender', 'a', 'manipularlos', 'puede', 'ser', 'muy', 'util', 'para', 'mi', 'vida']\n",
      "\n",
      " 15 =['Me', 'gusta', 'la', 'analítica', 'de', 'datos', 'y', 'el', 'valor', 'que', 'aporta', 'actualmente', 'en', 'la', 'industria']\n",
      "\n",
      " 29 =['Me', 'parece', 'que', 'la', 'tecnología', 'es', 'lo', 'que', 'rige', 'el', 'mundo', 'actual', 'y', 'aprender', 'un', 'poco', 'del', 'comportamiento', 'de', 'las', 'personas', 'a', 'traves', 'de', 'los', 'datos', 'es', 'muy', 'interesante']\n",
      "\n",
      " 11 =['Aprender', 'de', 'nuevas', 'herramientas', 'para', 'el', 'análisis', 'y', 'procesamiento', 'de', 'datos']\n",
      "\n",
      " 20 =['Creo', 'que', 'es', 'el', 'futuro,', 'me', 'gusta', 'y', 'de', 'cerca', 'he', 'visto', 'el', 'impacto', 'positivo', 'que', 'genera', 'en', 'una', 'organización']\n",
      "\n"
     ]
    }
   ],
   "source": [
    "#Leer la observacion, separar y contar.\n",
    "for text in df_data['Observacion']:\n",
    "    print(' {} ={}\\n'.format(len(text.split()),text.split()))\n",
    "    \n",
    "    "
   ]
  },
  {
   "cell_type": "code",
   "execution_count": 223,
   "metadata": {},
   "outputs": [
    {
     "name": "stdout",
     "output_type": "stream",
     "text": [
      "Counter({'de': 41, 'y': 37, 'en': 28, 'que': 24, 'la': 19, 'a': 17, 'el': 14, 'para': 14, 'datos': 13, 'es': 12, 'mi': 12, 'las': 11, 'los': 11, 'herramientas': 7, 'Me': 7, 'aprender': 7, 'un': 7, 'mucho': 7, 'profesional': 7, 'con': 7, 'me': 6, 'valor': 6, 'decisiones': 6, 'gusta': 5, 'una': 5, 'información': 5, 'lo': 4, 'Quiero': 4, 'personal': 4, 'analitica': 4, 'toma': 4, 'como': 4, 'entre': 4, 'Aprender': 3, 'nuevas': 3, 'mundo': 3, 'muy': 3, 'interesante': 3, 'vida': 3, 'temas': 3, 'Por': 3, 'día': 3, 'analisis': 3, 'datos,': 3, 'al': 3, 'conocimientos': 3, 'saber': 3, 'Creo': 2, 'genera': 2, 'análisis': 2, 'actual': 2, 'analítica': 2, 'cada': 2, 'tener': 2, 'laboral': 2, 'permitan': 2, 'complemento': 2, 'porque': 2, 'interés': 2, 'generar': 2, 'mis': 2, 'analizar': 2, 'gran': 2, 'cantidad': 2, 'se': 2, 'provecho': 2, 'mejor': 2, 'cómo': 2, 'Trabajo': 2, 'estructurada': 2, 'interes': 2, 'procesos': 2, 'trabajo': 2, 'web': 2, '-': 2, 'En': 2, 'útil': 2, 'interesado': 2, 'gustan': 2, 'investigación': 2, 'futuro,': 1, 'cerca': 1, 'he': 1, 'visto': 1, 'impacto': 1, 'positivo': 1, 'organización': 1, 'procesamiento': 1, 'parece': 1, 'tecnología': 1, 'rige': 1, 'poco': 1, 'del': 1, 'comportamiento': 1, 'personas': 1, 'traves': 1, 'aporta': 1, 'actualmente': 1, 'industria': 1, 'son': 1, 'seran': 1, 'vez': 1, 'mas': 1, 'importantes,': 1, 'asi': 1, 'manipularlos': 1, 'puede': 1, 'ser': 1, 'util': 1, 'dedicarme': 1, 'esto': 1, 'resto': 1, 'todos': 1, 'estos': 1, 'sirven': 1, 'poder': 1, 'ir': 1, 'alcanzando': 1, 'sueno': 1, 'crecimiento': 1, 'aplicaciones': 1, 'hoy': 1, 'tiene': 1, 'industria.': 1, 'especial': 1, 'predicciones': 1, 'texto': 1, 'correcta': 1, 'visualizacion': 1, 'le': 1, 'dé': 1, 'cliente': 1, 'Considero': 1, 'realmente': 1, 'mejorar': 1, 'nivel': 1, 'profesional,': 1, 'bastante': 1, 'valorada': 1, 'mercado': 1, 'Mi': 1, 'especialización': 1, 'conocimiento': 1, 'más': 1, 'amplio,': 1, 'enfocado': 1, 'manipulación': 1, 'abarcando': 1, 'desde': 1, 'recolección,': 1, 'procesamiento,': 1, 'e': 1, 'interpretación': 1, 'usuario': 1, 'final': 1, 'cuyo': 1, 'objetivo': 1, 'fundamental': 1, 'agregado': 1, 'reportes': 1, 'óptima': 1, 'beneficien': 1, 'cualquier': 1, 'plan': 1, 'estratégico': 1, 'empresas': 1, 'El': 1, 'cuenta': 1, 'grandes': 1, 'volumenes': 1, 'pero': 1, 'ahora': 1, 'tiempo': 1, 'comprender': 1, 'necesidades': 1, 'sector.': 1, 'maneja': 1, 'ámbito': 1, 'laboral,': 1, 'por': 1, 'reto': 1, 'refleja': 1, 'manejar': 1, 'esos': 1, 'Generar': 1, 'nuevos': 1, 'aporten': 1, '.': 1, 'sacarle': 1, 'darles': 1, 'sacar': 1, 'adquiridos': 1, 'Estamos': 1, 'contacto': 1, 'permanente': 1, 'hay': 1, 'interacción': 1, 'ellos': 1, 'pueden': 1, 'tomarse': 1, 'basados': 1, 'estos.': 1, 'Implementar': 1, 'métodos': 1, 'estudio': 1, 'machine': 1, 'learning': 1, 'ciencias': 1, 'sociales': 1, 'altos': 1, 'volúmenes': 1, 'no': 1, 'compañía': 1, 'sectores': 1, 'usando': 1, 'procesar': 1, 'clientes,': 1, 'ventas,': 1, 'reclamación,': 1, 'quejas,': 1, 'contactos': 1, 'bots': 1, 'otros.': 1, 'Ademas': 1, 'veo': 1, 'otras': 1, 'áreas': 1, 'técnicas': 1, 'humanas.': 1, 'Porder': 1, 'aplicar': 1, 'labor': 1, ',': 1, 'creando': 1, 'modelos': 1, 'recomendación': 1, 'personalizacion': 1, 'paginas': 1, '(contenidos': 1, 'ecommerce': 1, 'apps)': 1, 'crear': 1, 'productos': 1, 'digitales': 1, 'alto': 1, 'impacto,': 1, 'solucionen': 1, 'problemas': 1, 'sean': 1, 'rentables.': 1, 'programar': 1, 'python': 1, 'carrera': 1, 'manejo': 1, 'todo.': 1, 'respecto.': 1, 'encuentro': 1, 'diferentes': 1, 'métodos,': 1, 'metodologías,': 1, 'lenguajes': 1, 'demás': 1, 'convertirme': 1, 'Científico': 1, 'Datos': 1, 'quiero': 1, 'aprenden': 1, 'aprovecharlos': 1, 'maximo': 1, 'experiencia': 1, 'mercados': 1, 'mercadeo': 1, 'empecé': 1, 'descubrir': 1, 'apasiona': 1, 'podemos': 1, 'usar': 1, 'avances': 1, 'tecnológicos': 1, 'hay,': 1, 'entender': 1, 'clientes': 1, 'desarrollar': 1, 'proyectos': 1, 'ayuden': 1, 'facilitar': 1, 'organizaciones,': 1, 'además': 1, 'analista': 1, 'digital': 1, 'relacionados': 1, 'gestión': 1, 'estoy': 1, 'utilizar': 1, 'faciliten': 1, 'lugar': 1, 'trabajo.': 1, 'Muchas': 1, 'basan': 1, 'creo': 1, 'nos': 1, 'aportan': 1, 'tanto': 1, 'Desarrollo': 1, 'proyecto': 1, 'personal.': 1, 'matemáticas,': 1, 'programación': 1, 'comunicación.': 1, 'Pienso': 1, 'ciencia': 1, 'buena': 1, 'mezcla': 1, 'esas': 1, 'tres': 1, 'áreas.': 1})\n"
     ]
    }
   ],
   "source": [
    "#Conteo de palabras de la lista.\n",
    "words = []\n",
    "for text in df_data['Observacion']:\n",
    "    words = text.split() + words\n",
    "\n",
    "counter = Counter(words)\n",
    "print(counter)"
   ]
  },
  {
   "cell_type": "code",
   "execution_count": 231,
   "metadata": {},
   "outputs": [
    {
     "name": "stdout",
     "output_type": "stream",
     "text": [
      "Counter({' ': 706, 'e': 472, 'a': 431, 'o': 302, 'n': 276, 'r': 256, 's': 256, 'i': 220, 't': 183, 'l': 169, 'c': 166, 'd': 148, 'm': 132, 'u': 110, 'p': 102, 'y': 49, 'g': 34, 'v': 33, 'q': 30, 'h': 26, 'b': 26, 'f': 23, 'ó': 22, ',': 21, 'j': 15, '.': 13, 'z': 11, 'á': 9, 'M': 9, 'í': 9, 'é': 8, 'P': 5, 'C': 4, 'A': 4, 'Q': 4, 'E': 4, 'x': 3, 'ú': 3, 'T': 2, 'w': 2, '-': 2, 'D': 2, 'G': 1, 'I': 1, 'ñ': 1, '(': 1, ')': 1})\n"
     ]
    }
   ],
   "source": [
    "#Conteo de letras de la lista.\n",
    "counter = Counter(\" \".join(words))\n",
    "print(counter)"
   ]
  },
  {
   "cell_type": "code",
   "execution_count": null,
   "metadata": {},
   "outputs": [],
   "source": []
  }
 ],
 "metadata": {
  "kernelspec": {
   "display_name": "Python 3",
   "language": "python",
   "name": "python3"
  },
  "language_info": {
   "codemirror_mode": {
    "name": "ipython",
    "version": 3
   },
   "file_extension": ".py",
   "mimetype": "text/x-python",
   "name": "python",
   "nbconvert_exporter": "python",
   "pygments_lexer": "ipython3",
   "version": "3.7.6"
  }
 },
 "nbformat": 4,
 "nbformat_minor": 4
}
